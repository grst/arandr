{
 "cells": [
  {
   "cell_type": "code",
   "execution_count": 1,
   "metadata": {
    "collapsed": true
   },
   "outputs": [],
   "source": [
    "from screenlayout.xrandr import XRandR"
   ]
  },
  {
   "cell_type": "code",
   "execution_count": 2,
   "metadata": {
    "collapsed": true
   },
   "outputs": [],
   "source": [
    "xr = XRandR()"
   ]
  },
  {
   "cell_type": "code",
   "execution_count": 3,
   "metadata": {
    "collapsed": true
   },
   "outputs": [],
   "source": [
    "def todict(obj, classkey=None):\n",
    "    if isinstance(obj, dict):\n",
    "        data = {}\n",
    "        for (k, v) in obj.items():\n",
    "            data[k] = todict(v, classkey)\n",
    "        return data\n",
    "    elif hasattr(obj, \"_ast\"):\n",
    "        return todict(obj._ast())\n",
    "    elif hasattr(obj, \"__iter__\"):\n",
    "        return [todict(v, classkey) for v in obj]\n",
    "    elif hasattr(obj, \"__dict__\"):\n",
    "        data = dict([(key, todict(value, classkey)) \n",
    "            for key, value in obj.__dict__.iteritems() \n",
    "            if not callable(value) and not key.startswith('_')])\n",
    "        if classkey is not None and hasattr(obj, \"__class__\"):\n",
    "            data[classkey] = obj.__class__.__name__\n",
    "        return data\n",
    "    else:\n",
    "        return obj"
   ]
  },
  {
   "cell_type": "code",
   "execution_count": 11,
   "metadata": {},
   "outputs": [],
   "source": [
    "with open(\"screenlayout/test/files/xrandr_verbose01.txt\") as f:\n",
    "    xr.load_from_x(f.read())"
   ]
  },
  {
   "cell_type": "code",
   "execution_count": 12,
   "metadata": {
    "scrolled": true
   },
   "outputs": [
    {
     "data": {
      "text/plain": [
       "{'outputs': {'DP1': {'connected': False,\n",
       "   'modes': [],\n",
       "   'name': 'DP1',\n",
       "   'rotations': [{}, {}, {}, {}]},\n",
       "  'DP2': {'connected': False,\n",
       "   'modes': [],\n",
       "   'name': 'DP2',\n",
       "   'rotations': [{}, {}, {}, {}]},\n",
       "  'HDMI1': {'connected': False,\n",
       "   'modes': [],\n",
       "   'name': 'HDMI1',\n",
       "   'rotations': [{}, {}, {}, {}]},\n",
       "  'HDMI2': {'connected': False,\n",
       "   'modes': [],\n",
       "   'name': 'HDMI2',\n",
       "   'rotations': [{}, {}, {}, {}]},\n",
       "  'LVDS1': {'connected': True,\n",
       "   'modes': [[1366, 768],\n",
       "    [1024, 768],\n",
       "    [1024, 576],\n",
       "    [960, 540],\n",
       "    [800, 600],\n",
       "    [864, 486],\n",
       "    [640, 480],\n",
       "    [720, 405],\n",
       "    [680, 384],\n",
       "    [640, 360]],\n",
       "   'name': 'LVDS1',\n",
       "   'rotations': [{}, {}, {}, {}]},\n",
       "  'VGA1': {'connected': True,\n",
       "   'modes': [[1024, 768], [800, 600], [848, 480], [640, 480]],\n",
       "   'name': 'VGA1',\n",
       "   'rotations': [{}, {}, {}, {}]},\n",
       "  'VIRTUAL1': {'connected': False,\n",
       "   'modes': [],\n",
       "   'name': 'VIRTUAL1',\n",
       "   'rotations': [{}, {}, {}, {}]}},\n",
       " 'virtual': {'max': [32767, 32767], 'min': [8, 8]}}"
      ]
     },
     "execution_count": 12,
     "metadata": {},
     "output_type": "execute_result"
    }
   ],
   "source": [
    "todict(xr.state)"
   ]
  },
  {
   "cell_type": "code",
   "execution_count": 13,
   "metadata": {},
   "outputs": [
    {
     "data": {
      "text/plain": [
       "{'outputs': {'DP1': {'active': False, 'primary': False},\n",
       "  'DP2': {'active': False, 'primary': False},\n",
       "  'HDMI1': {'active': False, 'primary': False},\n",
       "  'HDMI2': {'active': False, 'primary': False},\n",
       "  'LVDS1': {'active': True,\n",
       "   'mode': [1366, 768],\n",
       "   'position': [1024, 0],\n",
       "   'primary': True,\n",
       "   'rotation': {}},\n",
       "  'VGA1': {'active': True,\n",
       "   'mode': [1024, 768],\n",
       "   'position': [0, 0],\n",
       "   'primary': False,\n",
       "   'rotation': {}},\n",
       "  'VIRTUAL1': {'active': False, 'primary': False}},\n",
       " 'virtual': [2390, 768]}"
      ]
     },
     "execution_count": 13,
     "metadata": {},
     "output_type": "execute_result"
    }
   ],
   "source": [
    "todict(xr.configuration)"
   ]
  },
  {
   "cell_type": "code",
   "execution_count": 5,
   "metadata": {},
   "outputs": [
    {
     "data": {
      "text/plain": [
       "{'DP1': <screenlayout.xrandr.OutputConfiguration at 0x7fcbe8a10090>,\n",
       " 'DP2': <screenlayout.xrandr.OutputConfiguration at 0x7fcbe8a10190>,\n",
       " 'HDMI1': <screenlayout.xrandr.OutputConfiguration at 0x7fcbe8a10250>,\n",
       " 'HDMI2': <screenlayout.xrandr.OutputConfiguration at 0x7fcbe8a102d0>,\n",
       " 'LVDS1': <screenlayout.xrandr.OutputConfiguration at 0x7fcbeba9b310>,\n",
       " 'VGA1': <screenlayout.xrandr.OutputConfiguration at 0x7fcbe8a10350>,\n",
       " 'VIRTUAL1': <screenlayout.xrandr.OutputConfiguration at 0x7fcbe8a105d0>}"
      ]
     },
     "execution_count": 5,
     "metadata": {},
     "output_type": "execute_result"
    }
   ],
   "source": [
    "xr.configuration.outputs"
   ]
  },
  {
   "cell_type": "code",
   "execution_count": 10,
   "metadata": {},
   "outputs": [
    {
     "data": {
      "text/plain": [
       "{'active': True,\n",
       " 'mode': <screenlayout.auxiliary.NamedSize at 0x7fcbebaacfd0>,\n",
       " 'position': (1280, 0),\n",
       " 'primary': True,\n",
       " 'rotation': <Rotation normal>}"
      ]
     },
     "execution_count": 10,
     "metadata": {},
     "output_type": "execute_result"
    }
   ],
   "source": [
    "vars(xr.configuration.outputs[\"LVDS1\"])"
   ]
  },
  {
   "cell_type": "code",
   "execution_count": 12,
   "metadata": {},
   "outputs": [
    {
     "data": {
      "text/plain": [
       "{'outputs': {'DP1': <Output 'DP1' (0 modes)>,\n",
       "  'DP2': <Output 'DP2' (0 modes)>,\n",
       "  'HDMI1': <Output 'HDMI1' (0 modes)>,\n",
       "  'HDMI2': <Output 'HDMI2' (0 modes)>,\n",
       "  'LVDS1': <Output 'LVDS1' (10 modes)>,\n",
       "  'VGA1': <Output 'VGA1' (7 modes)>,\n",
       "  'VIRTUAL1': <Output 'VIRTUAL1' (0 modes)>},\n",
       " 'virtual': <screenlayout.xrandr.Virtual at 0x7fcbe9257e10>}"
      ]
     },
     "execution_count": 12,
     "metadata": {},
     "output_type": "execute_result"
    }
   ],
   "source": [
    "vars(xr.state)"
   ]
  },
  {
   "cell_type": "code",
   "execution_count": 13,
   "metadata": {},
   "outputs": [
    {
     "data": {
      "text/plain": [
       "{'DP1': <Output 'DP1' (0 modes)>,\n",
       " 'DP2': <Output 'DP2' (0 modes)>,\n",
       " 'HDMI1': <Output 'HDMI1' (0 modes)>,\n",
       " 'HDMI2': <Output 'HDMI2' (0 modes)>,\n",
       " 'LVDS1': <Output 'LVDS1' (10 modes)>,\n",
       " 'VGA1': <Output 'VGA1' (7 modes)>,\n",
       " 'VIRTUAL1': <Output 'VIRTUAL1' (0 modes)>}"
      ]
     },
     "execution_count": 13,
     "metadata": {},
     "output_type": "execute_result"
    }
   ],
   "source": [
    "xr.state.outputs"
   ]
  },
  {
   "cell_type": "code",
   "execution_count": 14,
   "metadata": {},
   "outputs": [
    {
     "data": {
      "text/plain": [
       "{'connected': True,\n",
       " 'modes': [<screenlayout.auxiliary.NamedSize at 0x7fcbe8a10390>,\n",
       "  <screenlayout.auxiliary.NamedSize at 0x7fcbe8a103d0>,\n",
       "  <screenlayout.auxiliary.NamedSize at 0x7fcbe8a10450>,\n",
       "  <screenlayout.auxiliary.NamedSize at 0x7fcbe8a10410>,\n",
       "  <screenlayout.auxiliary.NamedSize at 0x7fcbe8a104d0>,\n",
       "  <screenlayout.auxiliary.NamedSize at 0x7fcbe8a10490>,\n",
       "  <screenlayout.auxiliary.NamedSize at 0x7fcbe8a10550>],\n",
       " 'name': 'VGA1',\n",
       " 'rotations': {<Rotation inverted>,\n",
       "  <Rotation left>,\n",
       "  <Rotation normal>,\n",
       "  <Rotation right>}}"
      ]
     },
     "execution_count": 14,
     "metadata": {},
     "output_type": "execute_result"
    }
   ],
   "source": [
    "vars(xr.state.outputs['VGA1'])"
   ]
  },
  {
   "cell_type": "code",
   "execution_count": null,
   "metadata": {
    "collapsed": true
   },
   "outputs": [],
   "source": []
  }
 ],
 "metadata": {
  "kernelspec": {
   "display_name": "Python 2",
   "language": "python",
   "name": "python2"
  },
  "language_info": {
   "codemirror_mode": {
    "name": "ipython",
    "version": 2
   },
   "file_extension": ".py",
   "mimetype": "text/x-python",
   "name": "python",
   "nbconvert_exporter": "python",
   "pygments_lexer": "ipython2",
   "version": "2.7.14"
  }
 },
 "nbformat": 4,
 "nbformat_minor": 2
}
