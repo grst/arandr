{
 "cells": [
  {
   "cell_type": "code",
   "execution_count": 1,
   "metadata": {
    "collapsed": true
   },
   "outputs": [],
   "source": [
    "from screenlayout.xrandr import XRandR"
   ]
  },
  {
   "cell_type": "code",
   "execution_count": 2,
   "metadata": {
    "collapsed": true
   },
   "outputs": [],
   "source": [
    "xr = XRandR()"
   ]
  },
  {
   "cell_type": "code",
   "execution_count": 3,
   "metadata": {
    "collapsed": true
   },
   "outputs": [],
   "source": [
    "def todict(obj, classkey=None):\n",
    "    if isinstance(obj, dict):\n",
    "        data = {}\n",
    "        for (k, v) in obj.items():\n",
    "            data[k] = todict(v, classkey)\n",
    "        return data\n",
    "    elif hasattr(obj, \"_ast\"):\n",
    "        return todict(obj._ast())\n",
    "    elif hasattr(obj, \"__iter__\"):\n",
    "        return [todict(v, classkey) for v in obj]\n",
    "    elif hasattr(obj, \"__dict__\"):\n",
    "        data = dict([(key, todict(value, classkey)) \n",
    "            for key, value in obj.__dict__.iteritems() \n",
    "            if not callable(value) and not key.startswith('_')])\n",
    "        if classkey is not None and hasattr(obj, \"__class__\"):\n",
    "            data[classkey] = obj.__class__.__name__\n",
    "        return data\n",
    "    else:\n",
    "        return obj"
   ]
  },
  {
   "cell_type": "code",
   "execution_count": 4,
   "metadata": {},
   "outputs": [
    {
     "name": "stdout",
     "output_type": "stream",
     "text": [
      "('Screen 0: minimum 8 x 8, current 2390 x 768, maximum 32767 x 32767', [{'headline': 'LVDS1 connected primary 1366x768+1024+0 (0x4a) normal (normal left inverted right x axis y axis) 280mm x 170mm', 'EDID': '00ffffffffffff004ca349410000000000150104901c11780a859599574f8f2621505400000001010101010101010101010101010101121b567250000c303020250024ae100000190c12567250000c303020250024ae1000001900000000000000000000000000000000000000000002000c42f20b3c6914111e6e00000000db', 'details': [[['1366x768', '(0x4a)', '69.300MHz', '-HSync', '-VSync', '*current', '+preferred'], ' 1366', ' 768'], [['1366x768', '(0x122)', '46.200MHz', '-HSync', '-VSync'], ' 1366', ' 768'], [['1024x768', '(0x123)', '65.000MHz', '-HSync', '-VSync'], ' 1024', ' 768'], [['1024x576', '(0x124)', '46.995MHz', '-HSync', '+VSync'], ' 1024', ' 576'], [['960x540', '(0x125)', '40.784MHz', '-HSync', '+VSync'], ' 960', ' 540'], [['800x600', '(0x126)', '40.000MHz', '+HSync', '+VSync'], ' 800', ' 600'], [['800x600', '(0x127)', '36.000MHz', '+HSync', '+VSync'], ' 800', ' 600'], [['864x486', '(0x128)', '32.901MHz', '-HSync', '+VSync'], ' 864', ' 486'], [['640x480', '(0x129)', '25.175MHz', '-HSync', '-VSync'], ' 640', ' 480'], [['720x405', '(0x12a)', '22.176MHz', '-HSync', '+VSync'], ' 720', ' 405'], [['680x384', '(0x12b)', '19.677MHz', '-HSync', '+VSync'], ' 680', ' 384'], [['640x360', '(0x12c)', '17.187MHz', '-HSync', '+VSync'], ' 640', ' 360']]}, {'headline': 'DP1 disconnected (normal left inverted right x axis y axis)', 'EDID': None, 'details': []}, {'headline': 'DP2 disconnected (normal left inverted right x axis y axis)', 'EDID': None, 'details': []}, {'headline': 'HDMI1 disconnected (normal left inverted right x axis y axis)', 'EDID': None, 'details': []}, {'headline': 'HDMI2 disconnected (normal left inverted right x axis y axis)', 'EDID': None, 'details': []}, {'headline': 'VGA1 connected 1024x768+0+0 (0x123) normal (normal left inverted right x axis y axis) 0mm x 0mm', 'EDID': None, 'details': [[['1024x768', '(0x123)', '65.000MHz', '-HSync', '-VSync', '*current'], ' 1024', ' 768'], [['800x600', '(0x126)', '40.000MHz', '+HSync', '+VSync'], ' 800', ' 600'], [['800x600', '(0x127)', '36.000MHz', '+HSync', '+VSync'], ' 800', ' 600'], [['848x480', '(0x131)', '33.750MHz', '+HSync', '+VSync'], ' 848', ' 480'], [['640x480', '(0x129)', '25.175MHz', '-HSync', '-VSync'], ' 640', ' 480']]}, {'headline': 'VIRTUAL1 disconnected (normal left inverted right x axis y axis)', 'EDID': None, 'details': []}, {'headline': '', 'EDID': None, 'details': []}])\n"
     ]
    }
   ],
   "source": [
    "with open(\"screenlayout/test/files/xrandr_verbose01.txt\") as f:\n",
    "    print(xr._parse_raw_lines(f.read()))"
   ]
  },
  {
   "cell_type": "code",
   "execution_count": 6,
   "metadata": {
    "collapsed": true
   },
   "outputs": [],
   "source": [
    "xr = None"
   ]
  },
  {
   "cell_type": "code",
   "execution_count": 7,
   "metadata": {
    "collapsed": true
   },
   "outputs": [],
   "source": [
    "xr = XRandR()"
   ]
  },
  {
   "cell_type": "code",
   "execution_count": 8,
   "metadata": {
    "collapsed": true
   },
   "outputs": [],
   "source": [
    "xr.load_from_x()"
   ]
  },
  {
   "cell_type": "code",
   "execution_count": 9,
   "metadata": {
    "scrolled": true
   },
   "outputs": [
    {
     "data": {
      "text/plain": [
       "{'outputs': {'DP1': {'connected': False,\n",
       "   'modes': [],\n",
       "   'name': 'DP1',\n",
       "   'rotations': [{}, {}, {}, {}]},\n",
       "  'DP2': {'connected': False,\n",
       "   'modes': [],\n",
       "   'name': 'DP2',\n",
       "   'rotations': [{}, {}, {}, {}]},\n",
       "  'HDMI1': {'connected': False,\n",
       "   'modes': [],\n",
       "   'name': 'HDMI1',\n",
       "   'rotations': [{}, {}, {}, {}]},\n",
       "  'HDMI2': {'connected': False,\n",
       "   'modes': [],\n",
       "   'name': 'HDMI2',\n",
       "   'rotations': [{}, {}, {}, {}]},\n",
       "  'LVDS1': {'EDID': '00ffffffffffff004ca349410000000000150104901c11780a859599574f8f2621505400000001010101010101010101010101010101121b567250000c303020250024ae100000190c12567250000c303020250024ae1000001900000000000000000000000000000000000000000002000c42f20b3c6914111e6e00000000db',\n",
       "   'connected': True,\n",
       "   'modes': [[1366, 768],\n",
       "    [1024, 768],\n",
       "    [1024, 576],\n",
       "    [960, 540],\n",
       "    [800, 600],\n",
       "    [864, 486],\n",
       "    [640, 480],\n",
       "    [720, 405],\n",
       "    [680, 384],\n",
       "    [640, 360]],\n",
       "   'name': 'LVDS1',\n",
       "   'rotations': [{}, {}, {}, {}]},\n",
       "  'VGA1': {'EDID': '00ffffffffffff001e6d854b28360000041301036a261e78ea3231a3574c9d25115054a56b80314f454f614f81800101010101010101302a009851002a4030701300782d1100001e000000fd00384b1e530e000a202020202020000000fc004c313934320a20202020202020000000fc202020202020202020202020202000ea',\n",
       "   'connected': True,\n",
       "   'modes': [[1280, 1024],\n",
       "    [1152, 864],\n",
       "    [1024, 768],\n",
       "    [832, 624],\n",
       "    [800, 600],\n",
       "    [640, 480],\n",
       "    [720, 400]],\n",
       "   'name': 'VGA1',\n",
       "   'rotations': [{}, {}, {}, {}]},\n",
       "  'VIRTUAL1': {'connected': False,\n",
       "   'modes': [],\n",
       "   'name': 'VIRTUAL1',\n",
       "   'rotations': [{}, {}, {}, {}]}},\n",
       " 'virtual': {'max': [32767, 32767], 'min': [8, 8]}}"
      ]
     },
     "execution_count": 9,
     "metadata": {},
     "output_type": "execute_result"
    }
   ],
   "source": [
    "todict(xr.state)"
   ]
  },
  {
   "cell_type": "code",
   "execution_count": null,
   "metadata": {},
   "outputs": [],
   "source": [
    "todict(xr.configuration)"
   ]
  },
  {
   "cell_type": "code",
   "execution_count": null,
   "metadata": {},
   "outputs": [],
   "source": [
    "xr.configuration.outputs"
   ]
  },
  {
   "cell_type": "code",
   "execution_count": null,
   "metadata": {},
   "outputs": [],
   "source": [
    "vars(xr.configuration.outputs[\"LVDS1\"])"
   ]
  },
  {
   "cell_type": "code",
   "execution_count": null,
   "metadata": {},
   "outputs": [],
   "source": [
    "vars(xr.state)"
   ]
  },
  {
   "cell_type": "code",
   "execution_count": null,
   "metadata": {},
   "outputs": [],
   "source": [
    "xr.state.outputs"
   ]
  },
  {
   "cell_type": "code",
   "execution_count": null,
   "metadata": {},
   "outputs": [],
   "source": [
    "vars(xr.state.outputs['VGA1'])"
   ]
  },
  {
   "cell_type": "code",
   "execution_count": null,
   "metadata": {
    "collapsed": true
   },
   "outputs": [],
   "source": [
    "xr2 = "
   ]
  }
 ],
 "metadata": {
  "kernelspec": {
   "display_name": "Python 2",
   "language": "python",
   "name": "python2"
  },
  "language_info": {
   "codemirror_mode": {
    "name": "ipython",
    "version": 2
   },
   "file_extension": ".py",
   "mimetype": "text/x-python",
   "name": "python",
   "nbconvert_exporter": "python",
   "pygments_lexer": "ipython2",
   "version": "2.7.14"
  }
 },
 "nbformat": 4,
 "nbformat_minor": 2
}
